{
 "cells": [
  {
   "cell_type": "code",
   "execution_count": 1,
   "metadata": {},
   "outputs": [
    {
     "name": "stdout",
     "output_type": "stream",
     "text": [
      "2.2.1+cu121\n",
      "True\n"
     ]
    }
   ],
   "source": [
    "import torch\n",
    "print(torch.__version__)\n",
    "print(torch.cuda.is_available()) "
   ]
  },
  {
   "cell_type": "markdown",
   "metadata": {},
   "source": [
    "이미지\n",
    "- yolo task=detect mode=predict model=yolov8n.pt source=image1.jpg    \n",
    "\n",
    "영상\n",
    "- yolo task=detect mode=predict model=yolov8n.pt source=memo.mp4           \n",
    "\n",
    "신뢰도 적용\n",
    "- yolo task=detect mode=predict model=yolov8n.pt source=memo.mp4 conf=0.8  \n",
    "\n",
    "라벨 생성 \n",
    "- yolo task=detect mode=predict model=yolov8n.pt source=image1.jpg save_txt=True  \n",
    "\n",
    "라벨 생성 및 잘라내기  \n",
    "- yolo task=detect mode=predict model=yolov8n.pt source=image1.jpg save_txt=True save_crop=True\n",
    "\n",
    "라벨 숨기기\n",
    "- yolo task=detect mode=predict model=yolov8n.pt source=image1.jpg show_labels=False show_conf=True\n",
    "\n",
    "세그멘테이션 처리하기 \n",
    "- yolo task=segment mode=predict model=yolov8n-seg.pt source=image1.jpg     \n",
    "\n",
    "세그멘테이션 처리하기 라벨과 확률은 지우기     \n",
    "- yolo task=segment mode=predict model=yolov8n-seg.pt source=image1.jpg show_labels=False show_conf=True        \n",
    "\n",
    "이미지 실시간 처리 (1밀리초 동안 나타나고 사라짐)\n",
    "- yolo task=detect mode=predict model=yolov8n.pt source=image1.jpg show=True\n",
    "\n",
    "onnx 형식으로 추출하기 \n",
    "- yolo task=detect mode=export model=yolov8n.pt format=onnx\n"
   ]
  }
 ],
 "metadata": {
  "kernelspec": {
   "display_name": "Python 3",
   "language": "python",
   "name": "python3"
  },
  "language_info": {
   "codemirror_mode": {
    "name": "ipython",
    "version": 3
   },
   "file_extension": ".py",
   "mimetype": "text/x-python",
   "name": "python",
   "nbconvert_exporter": "python",
   "pygments_lexer": "ipython3",
   "version": "3.10.12"
  }
 },
 "nbformat": 4,
 "nbformat_minor": 2
}
