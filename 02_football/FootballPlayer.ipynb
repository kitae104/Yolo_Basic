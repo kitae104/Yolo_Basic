{
 "cells": [
  {
   "cell_type": "code",
   "execution_count": 1,
   "metadata": {},
   "outputs": [
    {
     "name": "stdout",
     "output_type": "stream",
     "text": [
      "Ultralytics YOLOv8.1.23 🚀 Python-3.11.0 torch-2.2.1+cpu CPU (Intel Core(TM) i9-9900K 3.60GHz)\n",
      "Setup complete ✅ (16 CPUs, 63.9 GB RAM, 129.6/476.9 GB disk)\n"
     ]
    }
   ],
   "source": [
    "import ultralytics\n",
    "ultralytics.checks()"
   ]
  },
  {
   "cell_type": "markdown",
   "metadata": {},
   "source": [
    "객체 탐지를 위한 Yolo8 학습\n",
    "- task : detect, pose 또는 segment\n",
    "- mode : train, val\n",
    "- model : 모델 파일 (ex> yolov8n.pt, yolov8n.yaml)\n",
    "- data : dataset.yaml\n",
    "- epochs : 학습을 위한 에폭 횟수\n",
    "- imgsz : 입력 이미지 수\n",
    "- batch : 각 배치당 이미지 수 \n",
    "- project : 저장 위치 \n",
    "- name : 이름"
   ]
  },
  {
   "cell_type": "code",
   "execution_count": null,
   "metadata": {},
   "outputs": [],
   "source": []
  },
  {
   "cell_type": "markdown",
   "metadata": {},
   "source": [
    "내용 처리   "
   ]
  }
 ],
 "metadata": {
  "kernelspec": {
   "display_name": "Python 3",
   "language": "python",
   "name": "python3"
  },
  "language_info": {
   "codemirror_mode": {
    "name": "ipython",
    "version": 3
   },
   "file_extension": ".py",
   "mimetype": "text/x-python",
   "name": "python",
   "nbconvert_exporter": "python",
   "pygments_lexer": "ipython3",
   "version": "undefined.undefined.undefined"
  }
 },
 "nbformat": 4,
 "nbformat_minor": 2
}
