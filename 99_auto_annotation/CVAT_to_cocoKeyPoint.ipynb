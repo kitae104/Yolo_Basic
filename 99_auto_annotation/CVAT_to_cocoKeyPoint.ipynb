{
 "cells": [
  {
   "cell_type": "code",
   "execution_count": 1,
   "metadata": {},
   "outputs": [],
   "source": [
    "import os.path\n",
    "from xml.dom import minidom"
   ]
  },
  {
   "cell_type": "code",
   "execution_count": 12,
   "metadata": {},
   "outputs": [],
   "source": [
    "out_dir = 'data/CVAT/out' # 새로 생성된 주석 저장 위치\n",
    "if not os.path.exists(out_dir):\n",
    "  os.makedirs(out_dir)\n",
    "  \n",
    "file = minidom.parse('data/CVAT/annotations.xml') # 로드할 파일\n",
    "\n",
    "images = file.getElementsByTagName('image')\n",
    "\n",
    "for image in images:\n",
    "  width = int(image.getAttribute('width'))\n",
    "  height = int(image.getAttribute('height'))\n",
    "  name = image.getAttribute('name')\n",
    "  elem = image.getElementsByTagName('points')\n",
    "  bbox = image.getElementsByTagName('box')[0]\n",
    "  xtl = int(float(bbox.getAttribute('xtl')))\n",
    "  ytl = int(float(bbox.getAttribute('ytl')))\n",
    "  xbr = int(float(bbox.getAttribute('xbr')))\n",
    "  ybr = int(float(bbox.getAttribute('ybr')))\n",
    "  \n",
    "  w = xbr - xtl\n",
    "  h = ybr - ytl\n",
    "  label_file = open(os.path.join(out_dir, name[: 4] + 'txt'), 'w')\n",
    "  \n",
    "  for e in elem:\n",
    "    label_file.write('0 {} {} {} {}'.format(str((xtl + w) / (2 * width)), str((ytl + h) / (2 * height)),\n",
    "                     str(w / width), str(h / height)))\n",
    "    \n",
    "    points = e.attributes['points']\n",
    "    points = points.value.split(';')\n",
    "    points_ = []\n",
    "    for p in points:\n",
    "      p = p.split(',')\n",
    "      p1, p2 = p\n",
    "      points_.append([int(float(p1)), int(float(p2))])\n",
    "    for p_, p in enumerate(points_):\n",
    "      label_file.write('{} {}'.format(p[0] / width, p[1] / height))\n",
    "      if p_ < len(points_) -1 :\n",
    "        label_file.write(' ')\n",
    "      else:\n",
    "        label_file.write('\\n')"
   ]
  },
  {
   "cell_type": "code",
   "execution_count": null,
   "metadata": {},
   "outputs": [],
   "source": []
  }
 ],
 "metadata": {
  "kernelspec": {
   "display_name": "Python 3",
   "language": "python",
   "name": "python3"
  },
  "language_info": {
   "codemirror_mode": {
    "name": "ipython",
    "version": 3
   },
   "file_extension": ".py",
   "mimetype": "text/x-python",
   "name": "python",
   "nbconvert_exporter": "python",
   "pygments_lexer": "ipython3",
   "version": "3.10.12"
  }
 },
 "nbformat": 4,
 "nbformat_minor": 2
}
